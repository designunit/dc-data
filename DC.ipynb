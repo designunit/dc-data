{
 "cells": [
  {
   "cell_type": "markdown",
   "metadata": {},
   "source": [
    "# DC Tools"
   ]
  },
  {
   "cell_type": "code",
   "execution_count": 1,
   "metadata": {},
   "outputs": [],
   "source": [
    "import pandas as pd\n",
    "import requests\n",
    "import numpy as np\n",
    "import re\n",
    "import json\n",
    "from pathlib import Path\n",
    "from io import StringIO"
   ]
  },
  {
   "cell_type": "code",
   "execution_count": 2,
   "metadata": {},
   "outputs": [],
   "source": [
    "data = requests.get('https://raw.githubusercontent.com/designunit/dc-data/master/data.csv').text\n",
    "df = pd.read_csv(StringIO(data), index_col='alias')"
   ]
  },
  {
   "cell_type": "markdown",
   "metadata": {},
   "source": [
    "## DC12 Setup"
   ]
  },
  {
   "cell_type": "code",
   "execution_count": 3,
   "metadata": {},
   "outputs": [],
   "source": [
    "usecols = ['code', 'name', 'description', 'units', 'pic link']\n",
    "df12 = pd.read_excel('DC CATALOGUE 12.xlsx', usecols=usecols)\n",
    "df12.columns = ['alias', 'title', 'description', 'units', 'image_file']\n",
    "df12.set_index('alias', inplace=True)\n",
    "\n",
    "# delete duplicates\n",
    "df12 = df12.loc[~df12.index.duplicated(keep='first')]"
   ]
  },
  {
   "cell_type": "code",
   "execution_count": 4,
   "metadata": {},
   "outputs": [],
   "source": [
    "def get_units(value):\n",
    "    if value == 'running meter':\n",
    "        return 'running_meter'\n",
    "    if value == 'pcs':\n",
    "        return 'piece'\n",
    "    return value\n",
    "df12['units'] = df12['units'].map(get_units)"
   ]
  },
  {
   "cell_type": "code",
   "execution_count": 5,
   "metadata": {},
   "outputs": [],
   "source": [
    "def cap(x):\n",
    "    if isinstance(x, str):\n",
    "        return str(x).capitalize().strip()\n",
    "    return x\n",
    "\n",
    "df12['title'] = df12['title'].map(cap)\n",
    "df12['description'] = df12['description'].map(cap)"
   ]
  },
  {
   "cell_type": "code",
   "execution_count": 6,
   "metadata": {},
   "outputs": [],
   "source": [
    "def file_name(x):\n",
    "    if isinstance(x, str):\n",
    "        x = x.replace('\\\\', '/')\n",
    "        return Path(x).name\n",
    "    return x\n",
    "df12['image_file'] = df12['image_file'].map(file_name)"
   ]
  },
  {
   "cell_type": "code",
   "execution_count": 7,
   "metadata": {},
   "outputs": [],
   "source": [
    "df12['code'] = df['code']"
   ]
  },
  {
   "cell_type": "markdown",
   "metadata": {},
   "source": [
    "## Setup merged DF"
   ]
  },
  {
   "cell_type": "code",
   "execution_count": 8,
   "metadata": {},
   "outputs": [
    {
     "data": {
      "text/html": [
       "<div>\n",
       "<style scoped>\n",
       "    .dataframe tbody tr th:only-of-type {\n",
       "        vertical-align: middle;\n",
       "    }\n",
       "\n",
       "    .dataframe tbody tr th {\n",
       "        vertical-align: top;\n",
       "    }\n",
       "\n",
       "    .dataframe thead th {\n",
       "        text-align: right;\n",
       "    }\n",
       "</style>\n",
       "<table border=\"1\" class=\"dataframe\">\n",
       "  <thead>\n",
       "    <tr style=\"text-align: right;\">\n",
       "      <th></th>\n",
       "      <th>code</th>\n",
       "      <th>name</th>\n",
       "      <th>units</th>\n",
       "      <th>image_file</th>\n",
       "      <th>description</th>\n",
       "    </tr>\n",
       "    <tr>\n",
       "      <th>alias</th>\n",
       "      <th></th>\n",
       "      <th></th>\n",
       "      <th></th>\n",
       "      <th></th>\n",
       "      <th></th>\n",
       "    </tr>\n",
       "  </thead>\n",
       "  <tbody>\n",
       "    <tr>\n",
       "      <th>P_C_01_a</th>\n",
       "      <td>PAV-PRD1-MAT1-2-PAT1-COL2-BST1</td>\n",
       "      <td>NaN</td>\n",
       "      <td>m2</td>\n",
       "      <td>P_C_01.jpg</td>\n",
       "      <td>Одноцветное мощение, светло-серая плитка, с гл...</td>\n",
       "    </tr>\n",
       "    <tr>\n",
       "      <th>P_C_01_b</th>\n",
       "      <td>PAV-PRD1-MAT1-2-PAT1-COL2-BST2</td>\n",
       "      <td>NaN</td>\n",
       "      <td>m2</td>\n",
       "      <td>P_C_01.jpg</td>\n",
       "      <td>Одноцветное мощение, светло-серая плитка, с гл...</td>\n",
       "    </tr>\n",
       "    <tr>\n",
       "      <th>P_C_02_a</th>\n",
       "      <td>PAV-PRD1-MAT1-5-PAT1-COL2-BST1</td>\n",
       "      <td>NaN</td>\n",
       "      <td>m2</td>\n",
       "      <td>P_C_02.jpg</td>\n",
       "      <td>Одноцветное мощение, светло-серая плитка, с гл...</td>\n",
       "    </tr>\n",
       "    <tr>\n",
       "      <th>P_C_02_b</th>\n",
       "      <td>PAV-PRD1-MAT1-5-PAT1-COL2-BST2</td>\n",
       "      <td>NaN</td>\n",
       "      <td>m2</td>\n",
       "      <td>P_C_02.jpg</td>\n",
       "      <td>Одноцветное мощение, светло-серая плитка, с гл...</td>\n",
       "    </tr>\n",
       "    <tr>\n",
       "      <th>P_C_03_a</th>\n",
       "      <td>PAV-PRD1-MAT1-4-PAT1-COL1-BST1</td>\n",
       "      <td>NaN</td>\n",
       "      <td>m2</td>\n",
       "      <td>P_C_03.jpg</td>\n",
       "      <td>Одноцветное мощение, черная плитка с гладкой и...</td>\n",
       "    </tr>\n",
       "    <tr>\n",
       "      <th>P_C_03_b</th>\n",
       "      <td>PAV-PRD1-MAT1-4-PAT1-COL1-BST2</td>\n",
       "      <td>NaN</td>\n",
       "      <td>m2</td>\n",
       "      <td>P_C_03.jpg</td>\n",
       "      <td>Одноцветное мощение, черная плитка с гладкой и...</td>\n",
       "    </tr>\n",
       "    <tr>\n",
       "      <th>P_C_04_a</th>\n",
       "      <td>PAV-PRD1-MAT1-5-PAT1-COL2-BST1</td>\n",
       "      <td>NaN</td>\n",
       "      <td>m2</td>\n",
       "      <td>P_C_04.jpg</td>\n",
       "      <td>Одноцветное мощение, черная плитка с гладкой п...</td>\n",
       "    </tr>\n",
       "    <tr>\n",
       "      <th>P_C_04_b</th>\n",
       "      <td>PAV-PRD1-MAT1-5-PAT1-COL2-BST2</td>\n",
       "      <td>NaN</td>\n",
       "      <td>m2</td>\n",
       "      <td>P_C_04.jpg</td>\n",
       "      <td>Одноцветное мощение, черная плитка с гладкой п...</td>\n",
       "    </tr>\n",
       "    <tr>\n",
       "      <th>P_C_05_a</th>\n",
       "      <td>PAV-PRD1-MAT1-PAT2-COL2-BST1</td>\n",
       "      <td>NaN</td>\n",
       "      <td>m2</td>\n",
       "      <td>P_C_05.jpg</td>\n",
       "      <td>Одноцветное мощение, светло-серая плитка с гла...</td>\n",
       "    </tr>\n",
       "    <tr>\n",
       "      <th>P_C_05_b</th>\n",
       "      <td>PAV-PRD1-MAT1-PAT2-COL2-BST2</td>\n",
       "      <td>NaN</td>\n",
       "      <td>m2</td>\n",
       "      <td>P_C_05.jpg</td>\n",
       "      <td>Одноцветное мощение, светло-серая плитка с гла...</td>\n",
       "    </tr>\n",
       "  </tbody>\n",
       "</table>\n",
       "</div>"
      ],
      "text/plain": [
       "                                    code  name units  image_file  \\\n",
       "alias                                                              \n",
       "P_C_01_a  PAV-PRD1-MAT1-2-PAT1-COL2-BST1   NaN    m2  P_C_01.jpg   \n",
       "P_C_01_b  PAV-PRD1-MAT1-2-PAT1-COL2-BST2   NaN    m2  P_C_01.jpg   \n",
       "P_C_02_a  PAV-PRD1-MAT1-5-PAT1-COL2-BST1   NaN    m2  P_C_02.jpg   \n",
       "P_C_02_b  PAV-PRD1-MAT1-5-PAT1-COL2-BST2   NaN    m2  P_C_02.jpg   \n",
       "P_C_03_a  PAV-PRD1-MAT1-4-PAT1-COL1-BST1   NaN    m2  P_C_03.jpg   \n",
       "P_C_03_b  PAV-PRD1-MAT1-4-PAT1-COL1-BST2   NaN    m2  P_C_03.jpg   \n",
       "P_C_04_a  PAV-PRD1-MAT1-5-PAT1-COL2-BST1   NaN    m2  P_C_04.jpg   \n",
       "P_C_04_b  PAV-PRD1-MAT1-5-PAT1-COL2-BST2   NaN    m2  P_C_04.jpg   \n",
       "P_C_05_a    PAV-PRD1-MAT1-PAT2-COL2-BST1   NaN    m2  P_C_05.jpg   \n",
       "P_C_05_b    PAV-PRD1-MAT1-PAT2-COL2-BST2   NaN    m2  P_C_05.jpg   \n",
       "\n",
       "                                                description  \n",
       "alias                                                        \n",
       "P_C_01_a  Одноцветное мощение, светло-серая плитка, с гл...  \n",
       "P_C_01_b  Одноцветное мощение, светло-серая плитка, с гл...  \n",
       "P_C_02_a  Одноцветное мощение, светло-серая плитка, с гл...  \n",
       "P_C_02_b  Одноцветное мощение, светло-серая плитка, с гл...  \n",
       "P_C_03_a  Одноцветное мощение, черная плитка с гладкой и...  \n",
       "P_C_03_b  Одноцветное мощение, черная плитка с гладкой и...  \n",
       "P_C_04_a  Одноцветное мощение, черная плитка с гладкой п...  \n",
       "P_C_04_b  Одноцветное мощение, черная плитка с гладкой п...  \n",
       "P_C_05_a  Одноцветное мощение, светло-серая плитка с гла...  \n",
       "P_C_05_b  Одноцветное мощение, светло-серая плитка с гла...  "
      ]
     },
     "execution_count": 8,
     "metadata": {},
     "output_type": "execute_result"
    }
   ],
   "source": [
    "df = df12[df12['code'].notnull()]\n",
    "df = df.reindex(columns=['code', 'name', 'units', 'image_file', 'description'])\n",
    "df.head(10)"
   ]
  },
  {
   "cell_type": "markdown",
   "metadata": {},
   "source": [
    "## Export"
   ]
  },
  {
   "cell_type": "code",
   "execution_count": 9,
   "metadata": {},
   "outputs": [],
   "source": [
    "df.to_csv('data.csv', sep=',')"
   ]
  }
 ],
 "metadata": {
  "kernelspec": {
   "display_name": "Python 3",
   "language": "python",
   "name": "python3"
  },
  "language_info": {
   "codemirror_mode": {
    "name": "ipython",
    "version": 3
   },
   "file_extension": ".py",
   "mimetype": "text/x-python",
   "name": "python",
   "nbconvert_exporter": "python",
   "pygments_lexer": "ipython3",
   "version": "3.7.3"
  }
 },
 "nbformat": 4,
 "nbformat_minor": 2
}
